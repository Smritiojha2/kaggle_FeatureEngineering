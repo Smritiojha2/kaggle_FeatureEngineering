{
 "cells": [
  {
   "cell_type": "markdown",
   "id": "27d37341",
   "metadata": {
    "papermill": {
     "duration": 0.020802,
     "end_time": "2022-04-01T16:05:41.649955",
     "exception": false,
     "start_time": "2022-04-01T16:05:41.629153",
     "status": "completed"
    },
    "tags": []
   },
   "source": [
    "**This notebook is an exercise in the [Feature Engineering](https://www.kaggle.com/learn/feature-engineering) course.  You can reference the tutorial at [this link](https://www.kaggle.com/ryanholbrook/creating-features).**\n",
    "\n",
    "---\n"
   ]
  },
  {
   "cell_type": "markdown",
   "id": "c25d4c17",
   "metadata": {
    "papermill": {
     "duration": 0.019286,
     "end_time": "2022-04-01T16:05:41.691248",
     "exception": false,
     "start_time": "2022-04-01T16:05:41.671962",
     "status": "completed"
    },
    "tags": []
   },
   "source": [
    "# Introduction #\n",
    "\n",
    "In this exercise you'll start developing the features you identified in Exercise 2 as having the most potential. As you work through this exercise, you might take a moment to look at the data documentation again and consider whether the features we're creating make sense from a real-world perspective, and whether there are any useful combinations that stand out to you.\n",
    "\n",
    "Run this cell to set everything up!"
   ]
  },
  {
   "cell_type": "code",
   "execution_count": 1,
   "id": "d3e95257",
   "metadata": {
    "execution": {
     "iopub.execute_input": "2022-04-01T16:05:41.751270Z",
     "iopub.status.busy": "2022-04-01T16:05:41.750254Z",
     "iopub.status.idle": "2022-04-01T16:05:43.020605Z",
     "shell.execute_reply": "2022-04-01T16:05:43.019899Z",
     "shell.execute_reply.started": "2022-04-01T15:30:28.927873Z"
    },
    "papermill": {
     "duration": 1.308408,
     "end_time": "2022-04-01T16:05:43.020815",
     "exception": false,
     "start_time": "2022-04-01T16:05:41.712407",
     "status": "completed"
    },
    "tags": []
   },
   "outputs": [],
   "source": [
    "# Setup feedback system\n",
    "from learntools.core import binder\n",
    "binder.bind(globals())\n",
    "from learntools.feature_engineering_new.ex3 import *\n",
    "\n",
    "import numpy as np\n",
    "import pandas as pd\n",
    "from sklearn.model_selection import cross_val_score\n",
    "from xgboost import XGBRegressor\n",
    "\n",
    "\n",
    "def score_dataset(X, y, model=XGBRegressor()):\n",
    "    # Label encoding for categoricals\n",
    "    for colname in X.select_dtypes([\"category\", \"object\"]):\n",
    "        X[colname], _ = X[colname].factorize()\n",
    "    # Metric for Housing competition is RMSLE (Root Mean Squared Log Error)\n",
    "    score = cross_val_score(\n",
    "        model, X, y, cv=5, scoring=\"neg_mean_squared_log_error\",\n",
    "    )\n",
    "    score = -1 * score.mean()\n",
    "    score = np.sqrt(score)\n",
    "    return score\n",
    "\n",
    "\n",
    "# Prepare data\n",
    "df = pd.read_csv(\"../input/fe-course-data/ames.csv\")\n",
    "X = df.copy()\n",
    "y = X.pop(\"SalePrice\")"
   ]
  },
  {
   "cell_type": "markdown",
   "id": "9951ed0d",
   "metadata": {
    "papermill": {
     "duration": 0.019236,
     "end_time": "2022-04-01T16:05:43.059955",
     "exception": false,
     "start_time": "2022-04-01T16:05:43.040719",
     "status": "completed"
    },
    "tags": []
   },
   "source": [
    "-------------------------------------------------------------------------------\n",
    "\n",
    "Let's start with a few mathematical combinations. We'll focus on features describing areas -- having the same units (square-feet) makes it easy to combine them in sensible ways. Since we're using XGBoost (a tree-based model), we'll focus on ratios and sums.\n",
    "\n",
    "# 1) Create Mathematical Transforms\n",
    "\n",
    "Create the following features:\n",
    "\n",
    "- `LivLotRatio`: the ratio of `GrLivArea` to `LotArea`\n",
    "- `Spaciousness`: the sum of `FirstFlrSF` and `SecondFlrSF` divided by `TotRmsAbvGrd`\n",
    "- `TotalOutsideSF`: the sum of `WoodDeckSF`, `OpenPorchSF`, `EnclosedPorch`, `Threeseasonporch`, and `ScreenPorch`"
   ]
  },
  {
   "cell_type": "code",
   "execution_count": 2,
   "id": "bcba5ef3",
   "metadata": {
    "execution": {
     "iopub.execute_input": "2022-04-01T16:05:43.118663Z",
     "iopub.status.busy": "2022-04-01T16:05:43.111326Z",
     "iopub.status.idle": "2022-04-01T16:05:43.126411Z",
     "shell.execute_reply": "2022-04-01T16:05:43.126901Z",
     "shell.execute_reply.started": "2022-04-01T15:34:20.543084Z"
    },
    "lines_to_next_cell": 0,
    "papermill": {
     "duration": 0.047539,
     "end_time": "2022-04-01T16:05:43.127064",
     "exception": false,
     "start_time": "2022-04-01T16:05:43.079525",
     "status": "completed"
    },
    "tags": []
   },
   "outputs": [
    {
     "data": {
      "application/javascript": [
       "parent.postMessage({\"jupyterEvent\": \"custom.exercise_interaction\", \"data\": {\"outcomeType\": 1, \"valueTowardsCompletion\": 0.2, \"interactionType\": 1, \"questionType\": 2, \"questionId\": \"1_Q1\", \"learnToolsVersion\": \"0.3.4\", \"failureMessage\": \"\", \"exceptionClass\": \"\", \"trace\": \"\"}}, \"*\")"
      ],
      "text/plain": [
       "<IPython.core.display.Javascript object>"
      ]
     },
     "metadata": {},
     "output_type": "display_data"
    },
    {
     "data": {
      "text/markdown": [
       "<span style=\"color:#33cc33\">Correct</span>"
      ],
      "text/plain": [
       "Correct"
      ]
     },
     "metadata": {},
     "output_type": "display_data"
    }
   ],
   "source": [
    "# YOUR CODE HERE\n",
    "X_1 = pd.DataFrame()  # dataframe to hold new features\n",
    "\n",
    "X_1[\"LivLotRatio\"] = X['GrLivArea']/X['LotArea']\n",
    "X_1[\"Spaciousness\"] = (X['FirstFlrSF']+X['SecondFlrSF'])/X['TotRmsAbvGrd']\n",
    "X_1[\"TotalOutsideSF\"] = X['WoodDeckSF']+X['OpenPorchSF']+X['EnclosedPorch']+X['Threeseasonporch']+X['ScreenPorch']\n",
    "\n",
    "\n",
    "# Check your answer\n",
    "q_1.check()"
   ]
  },
  {
   "cell_type": "code",
   "execution_count": 3,
   "id": "569540cc",
   "metadata": {
    "execution": {
     "iopub.execute_input": "2022-04-01T16:05:43.171885Z",
     "iopub.status.busy": "2022-04-01T16:05:43.171274Z",
     "iopub.status.idle": "2022-04-01T16:05:43.174225Z",
     "shell.execute_reply": "2022-04-01T16:05:43.174778Z"
    },
    "lines_to_next_cell": 0,
    "papermill": {
     "duration": 0.02679,
     "end_time": "2022-04-01T16:05:43.174935",
     "exception": false,
     "start_time": "2022-04-01T16:05:43.148145",
     "status": "completed"
    },
    "tags": []
   },
   "outputs": [],
   "source": [
    "# Lines below will give you a hint or solution code\n",
    "#q_1.hint()\n",
    "#q_1.solution()"
   ]
  },
  {
   "cell_type": "markdown",
   "id": "bab1f897",
   "metadata": {
    "papermill": {
     "duration": 0.02055,
     "end_time": "2022-04-01T16:05:43.216104",
     "exception": false,
     "start_time": "2022-04-01T16:05:43.195554",
     "status": "completed"
    },
    "tags": []
   },
   "source": [
    "-------------------------------------------------------------------------------\n",
    "\n",
    "If you've discovered an interaction effect between a numeric feature and a categorical feature, you might want to model it explicitly using a one-hot encoding, like so:\n",
    "\n",
    "```\n",
    "# One-hot encode Categorical feature, adding a column prefix \"Cat\"\n",
    "X_new = pd.get_dummies(df.Categorical, prefix=\"Cat\")\n",
    "\n",
    "# Multiply row-by-row\n",
    "X_new = X_new.mul(df.Continuous, axis=0)\n",
    "\n",
    "# Join the new features to the feature set\n",
    "X = X.join(X_new)\n",
    "```\n",
    "\n",
    "# 2) Interaction with a Categorical\n",
    "\n",
    "We discovered an interaction between `BldgType` and `GrLivArea` in Exercise 2. Now create their interaction features."
   ]
  },
  {
   "cell_type": "code",
   "execution_count": 4,
   "id": "e029746c",
   "metadata": {
    "execution": {
     "iopub.execute_input": "2022-04-01T16:05:43.260447Z",
     "iopub.status.busy": "2022-04-01T16:05:43.259838Z",
     "iopub.status.idle": "2022-04-01T16:05:43.273086Z",
     "shell.execute_reply": "2022-04-01T16:05:43.273639Z",
     "shell.execute_reply.started": "2022-04-01T15:42:20.394008Z"
    },
    "lines_to_next_cell": 0,
    "papermill": {
     "duration": 0.037053,
     "end_time": "2022-04-01T16:05:43.273824",
     "exception": false,
     "start_time": "2022-04-01T16:05:43.236771",
     "status": "completed"
    },
    "tags": []
   },
   "outputs": [
    {
     "data": {
      "application/javascript": [
       "parent.postMessage({\"jupyterEvent\": \"custom.exercise_interaction\", \"data\": {\"outcomeType\": 1, \"valueTowardsCompletion\": 0.2, \"interactionType\": 1, \"questionType\": 2, \"questionId\": \"2_Q2\", \"learnToolsVersion\": \"0.3.4\", \"failureMessage\": \"\", \"exceptionClass\": \"\", \"trace\": \"\"}}, \"*\")"
      ],
      "text/plain": [
       "<IPython.core.display.Javascript object>"
      ]
     },
     "metadata": {},
     "output_type": "display_data"
    },
    {
     "data": {
      "text/markdown": [
       "<span style=\"color:#33cc33\">Correct</span>"
      ],
      "text/plain": [
       "Correct"
      ]
     },
     "metadata": {},
     "output_type": "display_data"
    }
   ],
   "source": [
    "# YOUR CODE HERE\n",
    "# One-hot encode BldgType. Use `prefix=\"Bldg\"` in `get_dummies`\n",
    "X_2 =  pd.get_dummies(df.BldgType, prefix=\"Bldg\")\n",
    "# Multiply\n",
    "X_2 = X_2.mul(df.GrLivArea, axis=0)\n",
    "\n",
    "\n",
    "# Check your answer\n",
    "q_2.check()"
   ]
  },
  {
   "cell_type": "code",
   "execution_count": 5,
   "id": "564d47f2",
   "metadata": {
    "execution": {
     "iopub.execute_input": "2022-04-01T16:05:43.320575Z",
     "iopub.status.busy": "2022-04-01T16:05:43.319973Z",
     "iopub.status.idle": "2022-04-01T16:05:43.322629Z",
     "shell.execute_reply": "2022-04-01T16:05:43.323264Z"
    },
    "lines_to_next_cell": 0,
    "papermill": {
     "duration": 0.027701,
     "end_time": "2022-04-01T16:05:43.323417",
     "exception": false,
     "start_time": "2022-04-01T16:05:43.295716",
     "status": "completed"
    },
    "tags": []
   },
   "outputs": [],
   "source": [
    "# Lines below will give you a hint or solution code\n",
    "#q_2.hint()\n",
    "#q_2.solution()"
   ]
  },
  {
   "cell_type": "markdown",
   "id": "54335f6c",
   "metadata": {
    "lines_to_next_cell": 0,
    "papermill": {
     "duration": 0.021945,
     "end_time": "2022-04-01T16:05:43.367524",
     "exception": false,
     "start_time": "2022-04-01T16:05:43.345579",
     "status": "completed"
    },
    "tags": []
   },
   "source": [
    "# 3) Count Feature\n",
    "\n",
    "Let's try creating a feature that describes how many kinds of outdoor areas a dwelling has. Create a feature `PorchTypes` that counts how many of the following are greater than 0.0:\n",
    "\n",
    "```\n",
    "WoodDeckSF\n",
    "OpenPorchSF\n",
    "EnclosedPorch\n",
    "Threeseasonporch\n",
    "ScreenPorch\n",
    "```"
   ]
  },
  {
   "cell_type": "code",
   "execution_count": 6,
   "id": "5f58e172",
   "metadata": {
    "execution": {
     "iopub.execute_input": "2022-04-01T16:05:43.414960Z",
     "iopub.status.busy": "2022-04-01T16:05:43.414360Z",
     "iopub.status.idle": "2022-04-01T16:05:43.429058Z",
     "shell.execute_reply": "2022-04-01T16:05:43.429626Z",
     "shell.execute_reply.started": "2022-04-01T15:50:40.728555Z"
    },
    "lines_to_next_cell": 0,
    "papermill": {
     "duration": 0.040045,
     "end_time": "2022-04-01T16:05:43.429813",
     "exception": false,
     "start_time": "2022-04-01T16:05:43.389768",
     "status": "completed"
    },
    "tags": []
   },
   "outputs": [
    {
     "data": {
      "application/javascript": [
       "parent.postMessage({\"jupyterEvent\": \"custom.exercise_interaction\", \"data\": {\"outcomeType\": 1, \"valueTowardsCompletion\": 0.2, \"interactionType\": 1, \"questionType\": 2, \"questionId\": \"3_Q3\", \"learnToolsVersion\": \"0.3.4\", \"failureMessage\": \"\", \"exceptionClass\": \"\", \"trace\": \"\"}}, \"*\")"
      ],
      "text/plain": [
       "<IPython.core.display.Javascript object>"
      ]
     },
     "metadata": {},
     "output_type": "display_data"
    },
    {
     "data": {
      "text/markdown": [
       "<span style=\"color:#33cc33\">Correct</span>"
      ],
      "text/plain": [
       "Correct"
      ]
     },
     "metadata": {},
     "output_type": "display_data"
    }
   ],
   "source": [
    "X_3 = pd.DataFrame()\n",
    "\n",
    "# YOUR CODE HERE\n",
    "X_3[\"PorchTypes\"] = df[[\"WoodDeckSF\",\"OpenPorchSF\",\"EnclosedPorch\",\"Threeseasonporch\",\"ScreenPorch\",]].gt(0.0).sum(axis=1)\n",
    "\n",
    "\n",
    "# Check your answer\n",
    "q_3.check()"
   ]
  },
  {
   "cell_type": "code",
   "execution_count": 7,
   "id": "768b2f50",
   "metadata": {
    "execution": {
     "iopub.execute_input": "2022-04-01T16:05:43.479518Z",
     "iopub.status.busy": "2022-04-01T16:05:43.478911Z",
     "iopub.status.idle": "2022-04-01T16:05:43.481485Z",
     "shell.execute_reply": "2022-04-01T16:05:43.482103Z",
     "shell.execute_reply.started": "2022-04-01T15:50:47.568512Z"
    },
    "lines_to_next_cell": 0,
    "papermill": {
     "duration": 0.029151,
     "end_time": "2022-04-01T16:05:43.482257",
     "exception": false,
     "start_time": "2022-04-01T16:05:43.453106",
     "status": "completed"
    },
    "tags": []
   },
   "outputs": [],
   "source": [
    "# Lines below will give you a hint or solution code\n",
    "#q_3.hint()\n",
    "#q_3.solution()"
   ]
  },
  {
   "cell_type": "markdown",
   "id": "e9c488c5",
   "metadata": {
    "papermill": {
     "duration": 0.023569,
     "end_time": "2022-04-01T16:05:43.529247",
     "exception": false,
     "start_time": "2022-04-01T16:05:43.505678",
     "status": "completed"
    },
    "tags": []
   },
   "source": [
    "# 4) Break Down a Categorical Feature\n",
    "\n",
    "`MSSubClass` describes the type of a dwelling:"
   ]
  },
  {
   "cell_type": "code",
   "execution_count": 8,
   "id": "ed7e3aa5",
   "metadata": {
    "execution": {
     "iopub.execute_input": "2022-04-01T16:05:43.585611Z",
     "iopub.status.busy": "2022-04-01T16:05:43.585000Z",
     "iopub.status.idle": "2022-04-01T16:05:43.591258Z",
     "shell.execute_reply": "2022-04-01T16:05:43.590760Z",
     "shell.execute_reply.started": "2022-04-01T15:50:51.828161Z"
    },
    "papermill": {
     "duration": 0.032135,
     "end_time": "2022-04-01T16:05:43.591400",
     "exception": false,
     "start_time": "2022-04-01T16:05:43.559265",
     "status": "completed"
    },
    "tags": []
   },
   "outputs": [
    {
     "data": {
      "text/plain": [
       "array(['One_Story_1946_and_Newer_All_Styles', 'Two_Story_1946_and_Newer',\n",
       "       'One_Story_PUD_1946_and_Newer',\n",
       "       'One_and_Half_Story_Finished_All_Ages', 'Split_Foyer',\n",
       "       'Two_Story_PUD_1946_and_Newer', 'Split_or_Multilevel',\n",
       "       'One_Story_1945_and_Older', 'Duplex_All_Styles_and_Ages',\n",
       "       'Two_Family_conversion_All_Styles_and_Ages',\n",
       "       'One_and_Half_Story_Unfinished_All_Ages',\n",
       "       'Two_Story_1945_and_Older', 'Two_and_Half_Story_All_Ages',\n",
       "       'One_Story_with_Finished_Attic_All_Ages',\n",
       "       'PUD_Multilevel_Split_Level_Foyer',\n",
       "       'One_and_Half_Story_PUD_All_Ages'], dtype=object)"
      ]
     },
     "execution_count": 8,
     "metadata": {},
     "output_type": "execute_result"
    }
   ],
   "source": [
    "df.MSSubClass.unique()"
   ]
  },
  {
   "cell_type": "markdown",
   "id": "898d7be4",
   "metadata": {
    "papermill": {
     "duration": 0.024256,
     "end_time": "2022-04-01T16:05:43.639969",
     "exception": false,
     "start_time": "2022-04-01T16:05:43.615713",
     "status": "completed"
    },
    "tags": []
   },
   "source": [
    "You can see that there is a more general categorization described (roughly) by the first word of each category. Create a feature containing only these first words by splitting `MSSubClass` at the first underscore `_`. (Hint: In the `split` method use an argument `n=1`.)"
   ]
  },
  {
   "cell_type": "code",
   "execution_count": 9,
   "id": "b19fcde3",
   "metadata": {
    "execution": {
     "iopub.execute_input": "2022-04-01T16:05:43.691425Z",
     "iopub.status.busy": "2022-04-01T16:05:43.690837Z",
     "iopub.status.idle": "2022-04-01T16:05:43.713694Z",
     "shell.execute_reply": "2022-04-01T16:05:43.714265Z",
     "shell.execute_reply.started": "2022-04-01T16:03:56.141680Z"
    },
    "lines_to_next_cell": 0,
    "papermill": {
     "duration": 0.0503,
     "end_time": "2022-04-01T16:05:43.714421",
     "exception": false,
     "start_time": "2022-04-01T16:05:43.664121",
     "status": "completed"
    },
    "tags": []
   },
   "outputs": [
    {
     "data": {
      "application/javascript": [
       "parent.postMessage({\"jupyterEvent\": \"custom.exercise_interaction\", \"data\": {\"outcomeType\": 1, \"valueTowardsCompletion\": 0.2, \"interactionType\": 1, \"questionType\": 2, \"questionId\": \"4_Q4\", \"learnToolsVersion\": \"0.3.4\", \"failureMessage\": \"\", \"exceptionClass\": \"\", \"trace\": \"\"}}, \"*\")"
      ],
      "text/plain": [
       "<IPython.core.display.Javascript object>"
      ]
     },
     "metadata": {},
     "output_type": "display_data"
    },
    {
     "data": {
      "text/markdown": [
       "<span style=\"color:#33cc33\">Correct</span>"
      ],
      "text/plain": [
       "Correct"
      ]
     },
     "metadata": {},
     "output_type": "display_data"
    }
   ],
   "source": [
    "X_4 = pd.DataFrame()\n",
    "\n",
    "# YOUR CODE HERE\n",
    "X_4['MSClass']=df[\"MSSubClass\"].str.split(\"_\", expand=True,n=1)[0]     \n",
    "\n",
    "# Check your answer\n",
    "q_4.check()"
   ]
  },
  {
   "cell_type": "code",
   "execution_count": 10,
   "id": "ed2e9440",
   "metadata": {
    "execution": {
     "iopub.execute_input": "2022-04-01T16:05:43.768986Z",
     "iopub.status.busy": "2022-04-01T16:05:43.767713Z",
     "iopub.status.idle": "2022-04-01T16:05:43.771369Z",
     "shell.execute_reply": "2022-04-01T16:05:43.770857Z",
     "shell.execute_reply.started": "2022-04-01T16:04:28.442021Z"
    },
    "lines_to_next_cell": 0,
    "papermill": {
     "duration": 0.031426,
     "end_time": "2022-04-01T16:05:43.771509",
     "exception": false,
     "start_time": "2022-04-01T16:05:43.740083",
     "status": "completed"
    },
    "tags": []
   },
   "outputs": [],
   "source": [
    "# Lines below will give you a hint or solution code\n",
    "#q_4.hint()\n",
    "#$q_4.solution()"
   ]
  },
  {
   "cell_type": "markdown",
   "id": "9a42e45a",
   "metadata": {
    "papermill": {
     "duration": 0.024955,
     "end_time": "2022-04-01T16:05:43.823049",
     "exception": false,
     "start_time": "2022-04-01T16:05:43.798094",
     "status": "completed"
    },
    "tags": []
   },
   "source": [
    "# 5) Use a Grouped Transform\n",
    "\n",
    "The value of a home often depends on how it compares to typical homes in its neighborhood. Create a feature `MedNhbdArea` that describes the *median* of `GrLivArea` grouped on `Neighborhood`."
   ]
  },
  {
   "cell_type": "code",
   "execution_count": 11,
   "id": "65e513fc",
   "metadata": {
    "execution": {
     "iopub.execute_input": "2022-04-01T16:05:43.876399Z",
     "iopub.status.busy": "2022-04-01T16:05:43.875747Z",
     "iopub.status.idle": "2022-04-01T16:05:43.891365Z",
     "shell.execute_reply": "2022-04-01T16:05:43.891971Z",
     "shell.execute_reply.started": "2022-04-01T16:04:56.984223Z"
    },
    "lines_to_next_cell": 0,
    "papermill": {
     "duration": 0.04361,
     "end_time": "2022-04-01T16:05:43.892133",
     "exception": false,
     "start_time": "2022-04-01T16:05:43.848523",
     "status": "completed"
    },
    "tags": []
   },
   "outputs": [
    {
     "data": {
      "application/javascript": [
       "parent.postMessage({\"jupyterEvent\": \"custom.exercise_interaction\", \"data\": {\"outcomeType\": 1, \"valueTowardsCompletion\": 0.2, \"interactionType\": 1, \"questionType\": 2, \"questionId\": \"5_Q5\", \"learnToolsVersion\": \"0.3.4\", \"failureMessage\": \"\", \"exceptionClass\": \"\", \"trace\": \"\"}}, \"*\")"
      ],
      "text/plain": [
       "<IPython.core.display.Javascript object>"
      ]
     },
     "metadata": {},
     "output_type": "display_data"
    },
    {
     "data": {
      "text/markdown": [
       "<span style=\"color:#33cc33\">Correct</span>"
      ],
      "text/plain": [
       "Correct"
      ]
     },
     "metadata": {},
     "output_type": "display_data"
    }
   ],
   "source": [
    "X_5 = pd.DataFrame()\n",
    "\n",
    "# YOUR CODE HERE\n",
    "X_5[\"MedNhbdArea\"] = df.groupby(\"Neighborhood\")[\"GrLivArea\"].transform(\"median\")\n",
    "\n",
    "# Check your answer\n",
    "q_5.check()"
   ]
  },
  {
   "cell_type": "code",
   "execution_count": 12,
   "id": "19257193",
   "metadata": {
    "execution": {
     "iopub.execute_input": "2022-04-01T16:05:43.948247Z",
     "iopub.status.busy": "2022-04-01T16:05:43.947645Z",
     "iopub.status.idle": "2022-04-01T16:05:43.950200Z",
     "shell.execute_reply": "2022-04-01T16:05:43.950781Z",
     "shell.execute_reply.started": "2022-04-01T16:05:00.531235Z"
    },
    "lines_to_next_cell": 0,
    "papermill": {
     "duration": 0.031873,
     "end_time": "2022-04-01T16:05:43.950959",
     "exception": false,
     "start_time": "2022-04-01T16:05:43.919086",
     "status": "completed"
    },
    "tags": []
   },
   "outputs": [],
   "source": [
    "# Lines below will give you a hint or solution code\n",
    "#q_5.hint()\n",
    "#q_5.solution()"
   ]
  },
  {
   "cell_type": "markdown",
   "id": "b1372e1d",
   "metadata": {
    "papermill": {
     "duration": 0.026202,
     "end_time": "2022-04-01T16:05:44.003594",
     "exception": false,
     "start_time": "2022-04-01T16:05:43.977392",
     "status": "completed"
    },
    "tags": []
   },
   "source": [
    "Now you've made your first new feature set! If you like, you can run the cell below to score the model with all of your new features added:"
   ]
  },
  {
   "cell_type": "code",
   "execution_count": 13,
   "id": "466c4e1a",
   "metadata": {
    "execution": {
     "iopub.execute_input": "2022-04-01T16:05:44.060749Z",
     "iopub.status.busy": "2022-04-01T16:05:44.060116Z",
     "iopub.status.idle": "2022-04-01T16:05:48.853575Z",
     "shell.execute_reply": "2022-04-01T16:05:48.854111Z",
     "shell.execute_reply.started": "2022-04-01T16:05:03.481244Z"
    },
    "papermill": {
     "duration": 4.823615,
     "end_time": "2022-04-01T16:05:48.854333",
     "exception": false,
     "start_time": "2022-04-01T16:05:44.030718",
     "status": "completed"
    },
    "tags": []
   },
   "outputs": [
    {
     "data": {
      "text/plain": [
       "0.13847331710099203"
      ]
     },
     "execution_count": 13,
     "metadata": {},
     "output_type": "execute_result"
    }
   ],
   "source": [
    "X_new = X.join([X_1, X_2, X_3, X_4, X_5])\n",
    "score_dataset(X_new, y)"
   ]
  },
  {
   "cell_type": "markdown",
   "id": "68d13722",
   "metadata": {
    "papermill": {
     "duration": 0.026474,
     "end_time": "2022-04-01T16:05:48.909179",
     "exception": false,
     "start_time": "2022-04-01T16:05:48.882705",
     "status": "completed"
    },
    "tags": []
   },
   "source": [
    "# Keep Going #\n",
    "\n",
    "[**Untangle spatial relationships**](https://www.kaggle.com/ryanholbrook/clustering-with-k-means) by adding cluster labels to your dataset."
   ]
  }
 ],
 "metadata": {
  "kernelspec": {
   "display_name": "Python 3",
   "language": "python",
   "name": "python3"
  },
  "language_info": {
   "codemirror_mode": {
    "name": "ipython",
    "version": 3
   },
   "file_extension": ".py",
   "mimetype": "text/x-python",
   "name": "python",
   "nbconvert_exporter": "python",
   "pygments_lexer": "ipython3",
   "version": "3.7.12"
  },
  "papermill": {
   "default_parameters": {},
   "duration": 17.494524,
   "end_time": "2022-04-01T16:05:49.646897",
   "environment_variables": {},
   "exception": null,
   "input_path": "__notebook__.ipynb",
   "output_path": "__notebook__.ipynb",
   "parameters": {},
   "start_time": "2022-04-01T16:05:32.152373",
   "version": "2.3.3"
  }
 },
 "nbformat": 4,
 "nbformat_minor": 5
}
